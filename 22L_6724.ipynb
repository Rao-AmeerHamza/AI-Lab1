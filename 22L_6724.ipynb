{
  "cells": [
    {
      "cell_type": "code",
      "execution_count": null,
      "id": "b47c22c5",
      "metadata": {
        "id": "b47c22c5",
        "outputId": "7dab3f31-0653-48e5-ea11-e329556ae696"
      },
      "outputs": [
        {
          "name": "stdout",
          "output_type": "stream",
          "text": [
            "Hello Hamza\n"
          ]
        }
      ],
      "source": [
        "print(\"Hello Hamza\")"
      ]
    },
    {
      "cell_type": "code",
      "execution_count": null,
      "id": "d5fe23d2",
      "metadata": {
        "id": "d5fe23d2",
        "outputId": "1e6f67ea-33d0-4e28-8d59-2dc1da9a6250"
      },
      "outputs": [
        {
          "data": {
            "text/plain": [
              "1"
            ]
          },
          "execution_count": 2,
          "metadata": {},
          "output_type": "execute_result"
        }
      ],
      "source": [
        "a=12\n",
        "b=13\n",
        "c=b-a\n",
        "c"
      ]
    },
    {
      "cell_type": "code",
      "execution_count": null,
      "id": "17db594d",
      "metadata": {
        "id": "17db594d",
        "outputId": "ded62ad1-a279-44fd-d313-2e28c6a5b40d"
      },
      "outputs": [
        {
          "name": "stdout",
          "output_type": "stream",
          "text": [
            "Enter Name : hamza\n",
            "Enter Age : 22\n",
            "Good After NOON  hamza Your Age is 22\n"
          ]
        }
      ],
      "source": [
        "name=input(\"Enter Name : \")\n",
        "age=input(\"Enter Age : \")\n",
        "print(\"Good After NOON  \"+name +\" Your Age is \"+age)"
      ]
    },
    {
      "cell_type": "code",
      "execution_count": null,
      "id": "de36c768",
      "metadata": {
        "id": "de36c768",
        "outputId": "4f432bd3-076b-4fda-ecca-583f3c85e23b"
      },
      "outputs": [
        {
          "name": "stdout",
          "output_type": "stream",
          "text": [
            "Enter number22.87\n",
            "Float ! \n",
            "22.87\n"
          ]
        }
      ],
      "source": [
        "num=input(\"Enter number : \")\n",
        "if '.' in num:\n",
        "    print( \"Float  \")\n",
        "    num1=float(num)\n",
        "    print(num1)\n",
        "else:\n",
        "    print( \" NOT Float  \")\n",
        "    num1=int(num)\n",
        "    print(num1)"
      ]
    },
    {
      "cell_type": "code",
      "execution_count": null,
      "id": "73eb35a1",
      "metadata": {
        "id": "73eb35a1",
        "outputId": "a0db6a8d-c6ac-44e6-95cf-47ac87b70323"
      },
      "outputs": [
        {
          "name": "stdout",
          "output_type": "stream",
          "text": [
            "HAMZA\n",
            "HABIB\n",
            "TAHA\n"
          ]
        }
      ],
      "source": [
        "list=['Hamza','Habib','Mani']\n",
        "list.append('Taha')\n",
        "list.remove('Mani')\n",
        "for item in list:\n",
        "    print(item.upper())"
      ]
    },
    {
      "cell_type": "code",
      "execution_count": null,
      "id": "0c62c554",
      "metadata": {
        "id": "0c62c554",
        "outputId": "4cc902e4-6062-4e01-c3ff-a544f8cfbcd6"
      },
      "outputs": [
        {
          "name": "stdout",
          "output_type": "stream",
          "text": [
            "First element : Hamza  Second element : Habib\n"
          ]
        }
      ],
      "source": [
        "tup=('Hamza','Habib','Mani')\n",
        "num1=tup[0]\n",
        "num2=tup[1]\n",
        "print(\"First element : \"+ (num1) +\"  Second element : \"+ (num2) )"
      ]
    },
    {
      "cell_type": "code",
      "execution_count": null,
      "id": "ddf17dac",
      "metadata": {
        "id": "ddf17dac",
        "outputId": "58b9678c-abc5-421a-ba3d-e18c0dac0825"
      },
      "outputs": [
        {
          "name": "stdout",
          "output_type": "stream",
          "text": [
            "{'Habib': 'A+', 'Taha': 'B', 'Mani': 'C-', 'Hamza': 'D+', 'Ali': 'F'}\n"
          ]
        }
      ],
      "source": [
        "\n",
        " students = {\n",
        "     \"Habib\": \"A+\",\n",
        "     \"Taha\": 'B',\n",
        "     \"Mani\": \"C-\",\n",
        "     \"Hamza\": \"D+\",\n",
        "     \"Ali\": 'F'\n",
        " }\n",
        " print(students)"
      ]
    },
    {
      "cell_type": "code",
      "execution_count": null,
      "id": "a4c191cc",
      "metadata": {
        "id": "a4c191cc",
        "outputId": "cbdeddf5-8ca3-4751-bdf1-ec8e7dbf9040"
      },
      "outputs": [
        {
          "name": "stdout",
          "output_type": "stream",
          "text": [
            "Union: {1, 2, 3, 4, 5, 6}\n",
            "Intersection: {4}\n",
            "Difference: {1, 2, 3}\n"
          ]
        }
      ],
      "source": [
        "list1=[1,2,3,4]\n",
        "list2=[4,5,6]\n",
        "set1=set(list1)\n",
        "set2=set(list2)\n",
        "print(\"Union:\", set1.union(set2))\n",
        "print(\"Intersection:\", set1.intersection(set2))\n",
        "print(\"Difference:\", set1.difference(set2))"
      ]
    },
    {
      "cell_type": "code",
      "execution_count": null,
      "id": "32339c5b",
      "metadata": {
        "id": "32339c5b",
        "outputId": "48f6842e-667a-4cd8-a15e-4d77f661edb0"
      },
      "outputs": [
        {
          "name": "stdout",
          "output_type": "stream",
          "text": [
            "Enter an integer: -22\n",
            "Negative\n",
            "Even\n"
          ]
        }
      ],
      "source": [
        "number = int(input(\"Enter an integer: \"))\n",
        "if number > 0:\n",
        "    print(\"Positive\")\n",
        "elif number < 0:\n",
        "        print(\"Negative\")\n",
        "else:\n",
        "    print(\"Zero\")\n",
        "\n",
        "if (number % 2) == 0:\n",
        "    print(\"Even\")\n",
        "else:\n",
        "    print(\"Odd\")"
      ]
    },
    {
      "cell_type": "code",
      "execution_count": null,
      "id": "321f8d4b",
      "metadata": {
        "id": "321f8d4b",
        "outputId": "56ba1413-d11d-4ba5-c413-4f69850ec8a4"
      },
      "outputs": [
        {
          "name": "stdout",
          "output_type": "stream",
          "text": [
            "1\n",
            "2\n",
            "Fizz\n",
            "4\n",
            "Buzz\n",
            "Fizz\n",
            "7\n",
            "8\n",
            "Fizz\n",
            "Buzz\n",
            "11\n",
            "Fizz\n",
            "13\n",
            "14\n",
            "FizzBuzz\n",
            "16\n",
            "17\n",
            "Fizz\n",
            "19\n",
            "Buzz\n",
            "Fizz\n",
            "22\n",
            "23\n",
            "Fizz\n",
            "Buzz\n",
            "26\n",
            "Fizz\n",
            "28\n",
            "29\n",
            "FizzBuzz\n",
            "31\n",
            "32\n",
            "Fizz\n",
            "34\n",
            "Buzz\n",
            "Fizz\n",
            "37\n",
            "38\n",
            "Fizz\n",
            "Buzz\n",
            "41\n",
            "Fizz\n",
            "43\n",
            "44\n",
            "FizzBuzz\n",
            "46\n",
            "47\n",
            "Fizz\n",
            "49\n",
            "Buzz\n"
          ]
        }
      ],
      "source": [
        "\n",
        "for i in range(1, 51):\n",
        "    if i % 3 == 0 and i % 5 == 0:\n",
        "        print(\"FizzBuzz\")\n",
        "    elif i % 3 == 0:\n",
        "        print(\"Fizz\")\n",
        "    elif i % 5 == 0:\n",
        "        print(\"Buzz\")\n",
        "    else:\n",
        "        print(i)"
      ]
    },
    {
      "cell_type": "code",
      "execution_count": null,
      "id": "8aa34637",
      "metadata": {
        "id": "8aa34637",
        "outputId": "e858cce9-7e93-4694-bcb1-b2a31d7b5978"
      },
      "outputs": [
        {
          "name": "stdout",
          "output_type": "stream",
          "text": [
            "Enter a non-negative integer: 6\n",
            "The factorial of 6 is 720\n"
          ]
        }
      ],
      "source": [
        "\n",
        "def factorial(n):\n",
        "    result = 1\n",
        "    for i in range(1, n + 1):\n",
        "        result *= i\n",
        "    return result\n",
        "num = int(input(\"Enter a non-negative integer: \"))\n",
        "print(f\"The factorial of {num} is {factorial(num)}\")"
      ]
    },
    {
      "cell_type": "code",
      "execution_count": null,
      "id": "254fa792",
      "metadata": {
        "id": "254fa792",
        "outputId": "50536f17-3dd2-4202-f63e-9ee32c7be091"
      },
      "outputs": [
        {
          "name": "stdout",
          "output_type": "stream",
          "text": [
            "Enter Number to check for prime : 11\n",
            "11 is Prime : True\n"
          ]
        }
      ],
      "source": [
        "def is_prime(n):\n",
        "    if n<=1:\n",
        "        return False\n",
        "    for i in range(2,int(n*0.5)+1):\n",
        "        if n%i == 0:\n",
        "            return False\n",
        "    return True\n",
        "num=int(input(\"Enter Number to check for prime : \"))\n",
        "print(f\"{num} is Prime : {is_prime(num)}\")"
      ]
    },
    {
      "cell_type": "code",
      "source": [
        "listint=input(\"Enter a list of integers seperated by space: \").split(\" \")\n",
        "def squares(listint):\n",
        "  for i in range(len(listint)):\n",
        "    listint[i]=int(listint[i])*int(listint[i])\n",
        "  print(listint)\n",
        "squares(listint)"
      ],
      "metadata": {
        "colab": {
          "base_uri": "https://localhost:8080/"
        },
        "id": "NvGO10DensCJ",
        "outputId": "5a734845-5e4e-401e-d527-f658b7f8ff4b"
      },
      "id": "NvGO10DensCJ",
      "execution_count": 1,
      "outputs": [
        {
          "output_type": "stream",
          "name": "stdout",
          "text": [
            "Enter a list of integers seperated by space: 2 3 4 5 7\n",
            "[4, 9, 16, 25, 49]\n"
          ]
        }
      ]
    },
    {
      "cell_type": "code",
      "source": [
        "dict1={\n",
        "    \"val1\":\"1\",\n",
        "    \"val22\":\"2\",\n",
        "    \"val33\":\"3\"\n",
        "}\n",
        "dict2={\n",
        "     \"val1\":\"4\",\n",
        "    \"val4\":\"2\",\n",
        "    \"val5\":\"3\"\n",
        "}\n",
        "def merge(dict1,dict2):\n",
        "  dict1.update(dict2)\n",
        "  print(dict1)\n",
        "merge(dict1,dict2)"
      ],
      "metadata": {
        "colab": {
          "base_uri": "https://localhost:8080/"
        },
        "id": "O6dY5R4RqEBG",
        "outputId": "97401361-c825-4321-b429-7f1deaf83aa9"
      },
      "id": "O6dY5R4RqEBG",
      "execution_count": 2,
      "outputs": [
        {
          "output_type": "stream",
          "name": "stdout",
          "text": [
            "{'val1': '4', 'val22': '2', 'val33': '3', 'val4': '2', 'val5': '3'}\n"
          ]
        }
      ]
    },
    {
      "cell_type": "code",
      "source": [
        "list_int=input(\"Enter a list of integers seperated by space: \").split(\" \")\n",
        "def removedup(list_int):\n",
        "  for i in range(len(list_int)):\n",
        "    flag=False\n",
        "    j=i-1\n",
        "    while(j>=0 and not flag):\n",
        "      if list_int[i]==list_int[j]:\n",
        "        flag=True\n",
        "      j=j-1\n",
        "    if flag:\n",
        "      list_int[i]=\"x\"\n",
        "  list_int.remove(\"x\")\n",
        "  print(list_int)\n",
        "removedup(list_int)"
      ],
      "metadata": {
        "colab": {
          "base_uri": "https://localhost:8080/"
        },
        "id": "cAQF1O_JqdEi",
        "outputId": "63bd522e-584a-4c6a-a299-ef904d84b059"
      },
      "id": "cAQF1O_JqdEi",
      "execution_count": 4,
      "outputs": [
        {
          "output_type": "stream",
          "name": "stdout",
          "text": [
            "Enter a list of integers seperated by space: 2 3 4 2\n",
            "['2', '3', '4']\n"
          ]
        }
      ]
    },
    {
      "cell_type": "code",
      "source": [
        "data=input(\"Enter Data: \")\n",
        "def palindrome(data):\n",
        "  data=data.lower()\n",
        "  array=list(data)\n",
        "  i=0\n",
        "  j=len(array)-1\n",
        "  flag=True\n",
        "  while(i<j and flag):\n",
        "    if array[i]!=array[j]:\n",
        "      flag=False\n",
        "    i=i+1\n",
        "    j=j-1\n",
        "  if flag:\n",
        "    print(\"Palindrome\")\n",
        "  else:\n",
        "    print(\"Not Palindrome\")\n",
        "palindrome(data)"
      ],
      "metadata": {
        "colab": {
          "base_uri": "https://localhost:8080/"
        },
        "id": "kfsSM73OrVFC",
        "outputId": "ae12e2b0-d5ad-4f50-de44-544fa6bab907"
      },
      "id": "kfsSM73OrVFC",
      "execution_count": 5,
      "outputs": [
        {
          "output_type": "stream",
          "name": "stdout",
          "text": [
            "Enter Data: 45\n",
            "Not Palindrome\n"
          ]
        }
      ]
    },
    {
      "cell_type": "code",
      "source": [
        "\n",
        "def fibonacci(Num):\n",
        "  i=1\n",
        "  j=1\n",
        "\n",
        "  if(Num==1):\n",
        "    print(\"1\")\n",
        "  elif Num==2:\n",
        "    print(\"1\\n1\")\n",
        "  elif Num>2:\n",
        "    print(\"1\\n1\")\n",
        "    Num=Num-2\n",
        "    z=0\n",
        "    while z<Num:\n",
        "      temp=j\n",
        "      j=i+j\n",
        "      i=temp\n",
        "      print(f\"{j}\")\n",
        "      z=z+1\n",
        "Num=input(\"Enter Number: \")\n",
        "Num=int(Num)\n",
        "fibonacci(Num)\n",
        "\n"
      ],
      "metadata": {
        "colab": {
          "base_uri": "https://localhost:8080/"
        },
        "id": "9yABTht6rmcE",
        "outputId": "3132e6cc-9306-4749-a0ce-6c38710beee0"
      },
      "id": "9yABTht6rmcE",
      "execution_count": 6,
      "outputs": [
        {
          "output_type": "stream",
          "name": "stdout",
          "text": [
            "Enter Number: 44\n",
            "1\n",
            "1\n",
            "2\n",
            "3\n",
            "5\n",
            "8\n",
            "13\n",
            "21\n",
            "34\n",
            "55\n",
            "89\n",
            "144\n",
            "233\n",
            "377\n",
            "610\n",
            "987\n",
            "1597\n",
            "2584\n",
            "4181\n",
            "6765\n",
            "10946\n",
            "17711\n",
            "28657\n",
            "46368\n",
            "75025\n",
            "121393\n",
            "196418\n",
            "317811\n",
            "514229\n",
            "832040\n",
            "1346269\n",
            "2178309\n",
            "3524578\n",
            "5702887\n",
            "9227465\n",
            "14930352\n",
            "24157817\n",
            "39088169\n",
            "63245986\n",
            "102334155\n",
            "165580141\n",
            "267914296\n",
            "433494437\n",
            "701408733\n"
          ]
        }
      ]
    },
    {
      "cell_type": "code",
      "source": [
        "\n",
        "def calculator():\n",
        "  data=input(\"Enter a list of integers seperated by space: \").split(\" \")\n",
        "  try:\n",
        "    sum=0\n",
        "    for i in range(len(data)):\n",
        "      data[i]=int(data[i])\n",
        "      sum=sum+data[i]\n",
        "    print(f\"Average: {sum/len(data)}\")\n",
        "  except:\n",
        "    print(\"Invalid Input\")\n",
        "calculator()\n",
        "\n"
      ],
      "metadata": {
        "colab": {
          "base_uri": "https://localhost:8080/"
        },
        "id": "iksE2I3srshX",
        "outputId": "7a51f524-2bd5-4dd3-8401-32af2b877a83"
      },
      "id": "iksE2I3srshX",
      "execution_count": 8,
      "outputs": [
        {
          "output_type": "stream",
          "name": "stdout",
          "text": [
            "Enter a list of integers seperated by space: 4 5 6\n",
            "Average: 5.0\n"
          ]
        }
      ]
    },
    {
      "cell_type": "code",
      "source": [
        "#17\n",
        "def table():\n",
        "  for i in range(1,11):\n",
        "    print(f\"Table {i}\")\n",
        "    for j in range(1,11):\n",
        "      print(f\"{i} x {j} = {i*j}\")\n",
        "    print(\"\\n\")\n",
        "table()"
      ],
      "metadata": {
        "colab": {
          "base_uri": "https://localhost:8080/"
        },
        "id": "2_31SjEGsIoO",
        "outputId": "a6a6f272-197f-452b-d5e6-6b4071ad34b0"
      },
      "id": "2_31SjEGsIoO",
      "execution_count": 10,
      "outputs": [
        {
          "output_type": "stream",
          "name": "stdout",
          "text": [
            "Table 1\n",
            "1 x 1 = 1\n",
            "1 x 2 = 2\n",
            "1 x 3 = 3\n",
            "1 x 4 = 4\n",
            "1 x 5 = 5\n",
            "1 x 6 = 6\n",
            "1 x 7 = 7\n",
            "1 x 8 = 8\n",
            "1 x 9 = 9\n",
            "1 x 10 = 10\n",
            "\n",
            "\n",
            "Table 2\n",
            "2 x 1 = 2\n",
            "2 x 2 = 4\n",
            "2 x 3 = 6\n",
            "2 x 4 = 8\n",
            "2 x 5 = 10\n",
            "2 x 6 = 12\n",
            "2 x 7 = 14\n",
            "2 x 8 = 16\n",
            "2 x 9 = 18\n",
            "2 x 10 = 20\n",
            "\n",
            "\n",
            "Table 3\n",
            "3 x 1 = 3\n",
            "3 x 2 = 6\n",
            "3 x 3 = 9\n",
            "3 x 4 = 12\n",
            "3 x 5 = 15\n",
            "3 x 6 = 18\n",
            "3 x 7 = 21\n",
            "3 x 8 = 24\n",
            "3 x 9 = 27\n",
            "3 x 10 = 30\n",
            "\n",
            "\n",
            "Table 4\n",
            "4 x 1 = 4\n",
            "4 x 2 = 8\n",
            "4 x 3 = 12\n",
            "4 x 4 = 16\n",
            "4 x 5 = 20\n",
            "4 x 6 = 24\n",
            "4 x 7 = 28\n",
            "4 x 8 = 32\n",
            "4 x 9 = 36\n",
            "4 x 10 = 40\n",
            "\n",
            "\n",
            "Table 5\n",
            "5 x 1 = 5\n",
            "5 x 2 = 10\n",
            "5 x 3 = 15\n",
            "5 x 4 = 20\n",
            "5 x 5 = 25\n",
            "5 x 6 = 30\n",
            "5 x 7 = 35\n",
            "5 x 8 = 40\n",
            "5 x 9 = 45\n",
            "5 x 10 = 50\n",
            "\n",
            "\n",
            "Table 6\n",
            "6 x 1 = 6\n",
            "6 x 2 = 12\n",
            "6 x 3 = 18\n",
            "6 x 4 = 24\n",
            "6 x 5 = 30\n",
            "6 x 6 = 36\n",
            "6 x 7 = 42\n",
            "6 x 8 = 48\n",
            "6 x 9 = 54\n",
            "6 x 10 = 60\n",
            "\n",
            "\n",
            "Table 7\n",
            "7 x 1 = 7\n",
            "7 x 2 = 14\n",
            "7 x 3 = 21\n",
            "7 x 4 = 28\n",
            "7 x 5 = 35\n",
            "7 x 6 = 42\n",
            "7 x 7 = 49\n",
            "7 x 8 = 56\n",
            "7 x 9 = 63\n",
            "7 x 10 = 70\n",
            "\n",
            "\n",
            "Table 8\n",
            "8 x 1 = 8\n",
            "8 x 2 = 16\n",
            "8 x 3 = 24\n",
            "8 x 4 = 32\n",
            "8 x 5 = 40\n",
            "8 x 6 = 48\n",
            "8 x 7 = 56\n",
            "8 x 8 = 64\n",
            "8 x 9 = 72\n",
            "8 x 10 = 80\n",
            "\n",
            "\n",
            "Table 9\n",
            "9 x 1 = 9\n",
            "9 x 2 = 18\n",
            "9 x 3 = 27\n",
            "9 x 4 = 36\n",
            "9 x 5 = 45\n",
            "9 x 6 = 54\n",
            "9 x 7 = 63\n",
            "9 x 8 = 72\n",
            "9 x 9 = 81\n",
            "9 x 10 = 90\n",
            "\n",
            "\n",
            "Table 10\n",
            "10 x 1 = 10\n",
            "10 x 2 = 20\n",
            "10 x 3 = 30\n",
            "10 x 4 = 40\n",
            "10 x 5 = 50\n",
            "10 x 6 = 60\n",
            "10 x 7 = 70\n",
            "10 x 8 = 80\n",
            "10 x 9 = 90\n",
            "10 x 10 = 100\n",
            "\n",
            "\n"
          ]
        }
      ]
    },
    {
      "cell_type": "code",
      "source": [
        "\n",
        "LoginInfo={\n",
        "    \"Hamza\":\"1234\",\n",
        "    \"Mani\":\"12345\"\n",
        "}\n",
        "username=input(\"Enter Username: \")\n",
        "password=input(\"Enter Password: \")\n",
        "def login(username,password):\n",
        "  if LoginInfo.get(username)==password:\n",
        "    print(\"Login Successful\")\n",
        "  else:\n",
        "    print(\"Login Failed\")\n",
        "login(username,password)\n"
      ],
      "metadata": {
        "colab": {
          "base_uri": "https://localhost:8080/"
        },
        "id": "EMMH08MFsNqm",
        "outputId": "84f2eb17-5703-4621-c77f-79b048105764"
      },
      "id": "EMMH08MFsNqm",
      "execution_count": 11,
      "outputs": [
        {
          "output_type": "stream",
          "name": "stdout",
          "text": [
            "Enter Username: Mani\n",
            "Enter Password: 12345\n",
            "Login Successful\n"
          ]
        }
      ]
    },
    {
      "cell_type": "code",
      "source": [
        "\n",
        "words = input(\"Enter the words with spaces: \").split()\n",
        "word_count = {}\n",
        "for word in words:\n",
        "  if word in word_count:\n",
        "    word_count[word] += 1\n",
        "  else:\n",
        "    word_count[word] = 1\n",
        "print(word_count)"
      ],
      "metadata": {
        "colab": {
          "base_uri": "https://localhost:8080/"
        },
        "id": "flyY3HQ0sjsV",
        "outputId": "35b91f7c-a2a9-4622-a099-8cbd30ac7b1d"
      },
      "id": "flyY3HQ0sjsV",
      "execution_count": 14,
      "outputs": [
        {
          "output_type": "stream",
          "name": "stdout",
          "text": [
            "Enter the words with spaces: rao hamza umar\n",
            "{'rao': 1, 'hamza': 1, 'umar': 1}\n"
          ]
        }
      ]
    }
  ],
  "metadata": {
    "kernelspec": {
      "display_name": "Python 3",
      "language": "python",
      "name": "python3"
    },
    "language_info": {
      "codemirror_mode": {
        "name": "ipython",
        "version": 3
      },
      "file_extension": ".py",
      "mimetype": "text/x-python",
      "name": "python",
      "nbconvert_exporter": "python",
      "pygments_lexer": "ipython3",
      "version": "3.8.8"
    },
    "colab": {
      "provenance": []
    }
  },
  "nbformat": 4,
  "nbformat_minor": 5
}